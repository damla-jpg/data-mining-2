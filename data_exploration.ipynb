{
 "cells": [
  {
   "cell_type": "markdown",
   "metadata": {},
   "source": [
    "# Data Exploration"
   ]
  },
  {
   "cell_type": "code",
   "execution_count": 81,
   "metadata": {},
   "outputs": [],
   "source": [
    "import pandas as pd\n",
    "import numpy as np\n",
    "import matplotlib.pyplot as plt\n",
    "import seaborn as sns\n",
    "colors = sns.color_palette('Blues_d')[0:5]"
   ]
  },
  {
   "cell_type": "code",
   "execution_count": 82,
   "metadata": {},
   "outputs": [
    {
     "data": {
      "text/html": [
       "<div>\n",
       "<style scoped>\n",
       "    .dataframe tbody tr th:only-of-type {\n",
       "        vertical-align: middle;\n",
       "    }\n",
       "\n",
       "    .dataframe tbody tr th {\n",
       "        vertical-align: top;\n",
       "    }\n",
       "\n",
       "    .dataframe thead th {\n",
       "        text-align: right;\n",
       "    }\n",
       "</style>\n",
       "<table border=\"1\" class=\"dataframe\">\n",
       "  <thead>\n",
       "    <tr style=\"text-align: right;\">\n",
       "      <th></th>\n",
       "      <th>srch_id</th>\n",
       "      <th>date_time</th>\n",
       "      <th>site_id</th>\n",
       "      <th>visitor_location_country_id</th>\n",
       "      <th>visitor_hist_starrating</th>\n",
       "      <th>visitor_hist_adr_usd</th>\n",
       "      <th>prop_country_id</th>\n",
       "      <th>prop_id</th>\n",
       "      <th>prop_starrating</th>\n",
       "      <th>prop_review_score</th>\n",
       "      <th>...</th>\n",
       "      <th>comp6_rate_percent_diff</th>\n",
       "      <th>comp7_rate</th>\n",
       "      <th>comp7_inv</th>\n",
       "      <th>comp7_rate_percent_diff</th>\n",
       "      <th>comp8_rate</th>\n",
       "      <th>comp8_inv</th>\n",
       "      <th>comp8_rate_percent_diff</th>\n",
       "      <th>click_bool</th>\n",
       "      <th>gross_bookings_usd</th>\n",
       "      <th>booking_bool</th>\n",
       "    </tr>\n",
       "  </thead>\n",
       "  <tbody>\n",
       "    <tr>\n",
       "      <th>0</th>\n",
       "      <td>1</td>\n",
       "      <td>2013-04-04 08:32:15</td>\n",
       "      <td>12</td>\n",
       "      <td>187</td>\n",
       "      <td>NaN</td>\n",
       "      <td>NaN</td>\n",
       "      <td>219</td>\n",
       "      <td>893</td>\n",
       "      <td>3</td>\n",
       "      <td>3.5</td>\n",
       "      <td>...</td>\n",
       "      <td>NaN</td>\n",
       "      <td>NaN</td>\n",
       "      <td>NaN</td>\n",
       "      <td>NaN</td>\n",
       "      <td>0.0</td>\n",
       "      <td>0.0</td>\n",
       "      <td>NaN</td>\n",
       "      <td>0</td>\n",
       "      <td>NaN</td>\n",
       "      <td>0</td>\n",
       "    </tr>\n",
       "    <tr>\n",
       "      <th>1</th>\n",
       "      <td>1</td>\n",
       "      <td>2013-04-04 08:32:15</td>\n",
       "      <td>12</td>\n",
       "      <td>187</td>\n",
       "      <td>NaN</td>\n",
       "      <td>NaN</td>\n",
       "      <td>219</td>\n",
       "      <td>10404</td>\n",
       "      <td>4</td>\n",
       "      <td>4.0</td>\n",
       "      <td>...</td>\n",
       "      <td>NaN</td>\n",
       "      <td>NaN</td>\n",
       "      <td>NaN</td>\n",
       "      <td>NaN</td>\n",
       "      <td>0.0</td>\n",
       "      <td>0.0</td>\n",
       "      <td>NaN</td>\n",
       "      <td>0</td>\n",
       "      <td>NaN</td>\n",
       "      <td>0</td>\n",
       "    </tr>\n",
       "    <tr>\n",
       "      <th>2</th>\n",
       "      <td>1</td>\n",
       "      <td>2013-04-04 08:32:15</td>\n",
       "      <td>12</td>\n",
       "      <td>187</td>\n",
       "      <td>NaN</td>\n",
       "      <td>NaN</td>\n",
       "      <td>219</td>\n",
       "      <td>21315</td>\n",
       "      <td>3</td>\n",
       "      <td>4.5</td>\n",
       "      <td>...</td>\n",
       "      <td>NaN</td>\n",
       "      <td>NaN</td>\n",
       "      <td>NaN</td>\n",
       "      <td>NaN</td>\n",
       "      <td>0.0</td>\n",
       "      <td>0.0</td>\n",
       "      <td>NaN</td>\n",
       "      <td>0</td>\n",
       "      <td>NaN</td>\n",
       "      <td>0</td>\n",
       "    </tr>\n",
       "    <tr>\n",
       "      <th>3</th>\n",
       "      <td>1</td>\n",
       "      <td>2013-04-04 08:32:15</td>\n",
       "      <td>12</td>\n",
       "      <td>187</td>\n",
       "      <td>NaN</td>\n",
       "      <td>NaN</td>\n",
       "      <td>219</td>\n",
       "      <td>27348</td>\n",
       "      <td>2</td>\n",
       "      <td>4.0</td>\n",
       "      <td>...</td>\n",
       "      <td>NaN</td>\n",
       "      <td>NaN</td>\n",
       "      <td>NaN</td>\n",
       "      <td>NaN</td>\n",
       "      <td>-1.0</td>\n",
       "      <td>0.0</td>\n",
       "      <td>5.0</td>\n",
       "      <td>0</td>\n",
       "      <td>NaN</td>\n",
       "      <td>0</td>\n",
       "    </tr>\n",
       "    <tr>\n",
       "      <th>4</th>\n",
       "      <td>1</td>\n",
       "      <td>2013-04-04 08:32:15</td>\n",
       "      <td>12</td>\n",
       "      <td>187</td>\n",
       "      <td>NaN</td>\n",
       "      <td>NaN</td>\n",
       "      <td>219</td>\n",
       "      <td>29604</td>\n",
       "      <td>4</td>\n",
       "      <td>3.5</td>\n",
       "      <td>...</td>\n",
       "      <td>NaN</td>\n",
       "      <td>NaN</td>\n",
       "      <td>NaN</td>\n",
       "      <td>NaN</td>\n",
       "      <td>0.0</td>\n",
       "      <td>0.0</td>\n",
       "      <td>NaN</td>\n",
       "      <td>0</td>\n",
       "      <td>NaN</td>\n",
       "      <td>0</td>\n",
       "    </tr>\n",
       "  </tbody>\n",
       "</table>\n",
       "<p>5 rows × 54 columns</p>\n",
       "</div>"
      ],
      "text/plain": [
       "   srch_id            date_time  site_id  visitor_location_country_id   \n",
       "0        1  2013-04-04 08:32:15       12                          187  \\\n",
       "1        1  2013-04-04 08:32:15       12                          187   \n",
       "2        1  2013-04-04 08:32:15       12                          187   \n",
       "3        1  2013-04-04 08:32:15       12                          187   \n",
       "4        1  2013-04-04 08:32:15       12                          187   \n",
       "\n",
       "   visitor_hist_starrating  visitor_hist_adr_usd  prop_country_id  prop_id   \n",
       "0                      NaN                   NaN              219      893  \\\n",
       "1                      NaN                   NaN              219    10404   \n",
       "2                      NaN                   NaN              219    21315   \n",
       "3                      NaN                   NaN              219    27348   \n",
       "4                      NaN                   NaN              219    29604   \n",
       "\n",
       "   prop_starrating  prop_review_score  ...  comp6_rate_percent_diff   \n",
       "0                3                3.5  ...                      NaN  \\\n",
       "1                4                4.0  ...                      NaN   \n",
       "2                3                4.5  ...                      NaN   \n",
       "3                2                4.0  ...                      NaN   \n",
       "4                4                3.5  ...                      NaN   \n",
       "\n",
       "   comp7_rate  comp7_inv  comp7_rate_percent_diff  comp8_rate  comp8_inv   \n",
       "0         NaN        NaN                      NaN         0.0        0.0  \\\n",
       "1         NaN        NaN                      NaN         0.0        0.0   \n",
       "2         NaN        NaN                      NaN         0.0        0.0   \n",
       "3         NaN        NaN                      NaN        -1.0        0.0   \n",
       "4         NaN        NaN                      NaN         0.0        0.0   \n",
       "\n",
       "   comp8_rate_percent_diff  click_bool  gross_bookings_usd  booking_bool  \n",
       "0                      NaN           0                 NaN             0  \n",
       "1                      NaN           0                 NaN             0  \n",
       "2                      NaN           0                 NaN             0  \n",
       "3                      5.0           0                 NaN             0  \n",
       "4                      NaN           0                 NaN             0  \n",
       "\n",
       "[5 rows x 54 columns]"
      ]
     },
     "execution_count": 82,
     "metadata": {},
     "output_type": "execute_result"
    }
   ],
   "source": [
    "train_df = pd.read_csv('files/training_set_VU_DM.csv')\n",
    "test_df = pd.read_csv('files/test_set_VU_DM.csv')\n",
    "train_df.head()"
   ]
  },
  {
   "cell_type": "code",
   "execution_count": 83,
   "metadata": {},
   "outputs": [
    {
     "data": {
      "text/plain": [
       "(4958347, 54)"
      ]
     },
     "execution_count": 83,
     "metadata": {},
     "output_type": "execute_result"
    }
   ],
   "source": [
    "train_df.shape"
   ]
  },
  {
   "cell_type": "code",
   "execution_count": 84,
   "metadata": {},
   "outputs": [
    {
     "data": {
      "text/plain": [
       "srch_id                              0\n",
       "date_time                            0\n",
       "site_id                              0\n",
       "visitor_location_country_id          0\n",
       "visitor_hist_starrating        4706481\n",
       "visitor_hist_adr_usd           4705359\n",
       "prop_country_id                      0\n",
       "prop_id                              0\n",
       "prop_starrating                      0\n",
       "prop_review_score                 7364\n",
       "prop_brand_bool                      0\n",
       "prop_location_score1                 0\n",
       "prop_location_score2           1090348\n",
       "prop_log_historical_price            0\n",
       "position                             0\n",
       "price_usd                            0\n",
       "promotion_flag                       0\n",
       "srch_destination_id                  0\n",
       "srch_length_of_stay                  0\n",
       "srch_booking_window                  0\n",
       "srch_adults_count                    0\n",
       "srch_children_count                  0\n",
       "srch_room_count                      0\n",
       "srch_saturday_night_bool             0\n",
       "srch_query_affinity_score      4640941\n",
       "orig_destination_distance      1607782\n",
       "random_bool                          0\n",
       "comp1_rate                     4838417\n",
       "comp1_inv                      4828788\n",
       "comp1_rate_percent_diff        4863908\n",
       "comp2_rate                     2933675\n",
       "comp2_inv                      2828078\n",
       "comp2_rate_percent_diff        4402109\n",
       "comp3_rate                     3424059\n",
       "comp3_inv                      3307357\n",
       "comp3_rate_percent_diff        4485550\n",
       "comp4_rate                     4650969\n",
       "comp4_inv                      4614684\n",
       "comp4_rate_percent_diff        4827261\n",
       "comp5_rate                     2735974\n",
       "comp5_inv                      2598327\n",
       "comp5_rate_percent_diff        4117248\n",
       "comp6_rate                     4718190\n",
       "comp6_inv                      4697371\n",
       "comp6_rate_percent_diff        4862173\n",
       "comp7_rate                     4642999\n",
       "comp7_inv                      4601925\n",
       "comp7_rate_percent_diff        4819832\n",
       "comp8_rate                     3041693\n",
       "comp8_inv                      2970844\n",
       "comp8_rate_percent_diff        4343617\n",
       "click_bool                           0\n",
       "gross_bookings_usd             4819957\n",
       "booking_bool                         0\n",
       "dtype: int64"
      ]
     },
     "execution_count": 84,
     "metadata": {},
     "output_type": "execute_result"
    }
   ],
   "source": [
    "train_df.isnull().sum()"
   ]
  },
  {
   "cell_type": "code",
   "execution_count": 85,
   "metadata": {},
   "outputs": [
    {
     "data": {
      "text/plain": [
       "0"
      ]
     },
     "execution_count": 85,
     "metadata": {},
     "output_type": "execute_result"
    }
   ],
   "source": [
    "train_df.duplicated().sum()"
   ]
  },
  {
   "cell_type": "code",
   "execution_count": 86,
   "metadata": {},
   "outputs": [
    {
     "data": {
      "text/plain": [
       "(4959183, 50)"
      ]
     },
     "execution_count": 86,
     "metadata": {},
     "output_type": "execute_result"
    }
   ],
   "source": [
    "test_df.shape"
   ]
  },
  {
   "cell_type": "code",
   "execution_count": 87,
   "metadata": {},
   "outputs": [
    {
     "data": {
      "text/plain": [
       "srch_id                              0\n",
       "date_time                            0\n",
       "site_id                              0\n",
       "visitor_location_country_id          0\n",
       "visitor_hist_starrating        4705752\n",
       "visitor_hist_adr_usd           4704559\n",
       "prop_country_id                      0\n",
       "prop_id                              0\n",
       "prop_starrating                      0\n",
       "prop_review_score                 7266\n",
       "prop_brand_bool                      0\n",
       "prop_location_score1                 0\n",
       "prop_location_score2           1088032\n",
       "prop_log_historical_price            0\n",
       "price_usd                            0\n",
       "promotion_flag                       0\n",
       "srch_destination_id                  0\n",
       "srch_length_of_stay                  0\n",
       "srch_booking_window                  0\n",
       "srch_adults_count                    0\n",
       "srch_children_count                  0\n",
       "srch_room_count                      0\n",
       "srch_saturday_night_bool             0\n",
       "srch_query_affinity_score      4641025\n",
       "orig_destination_distance      1608679\n",
       "random_bool                          0\n",
       "comp1_rate                     4843307\n",
       "comp1_inv                      4834309\n",
       "comp1_rate_percent_diff        4868715\n",
       "comp2_rate                     2943222\n",
       "comp2_inv                      2837914\n",
       "comp2_rate_percent_diff        4405574\n",
       "comp3_rate                     3434198\n",
       "comp3_inv                      3317952\n",
       "comp3_rate_percent_diff        4487973\n",
       "comp4_rate                     4646462\n",
       "comp4_inv                      4610375\n",
       "comp4_rate_percent_diff        4826056\n",
       "comp5_rate                     2737262\n",
       "comp5_inv                      2598370\n",
       "comp5_rate_percent_diff        4119276\n",
       "comp6_rate                     4716853\n",
       "comp6_inv                      4696014\n",
       "comp6_rate_percent_diff        4862045\n",
       "comp7_rate                     4643454\n",
       "comp7_inv                      4602430\n",
       "comp7_rate_percent_diff        4819860\n",
       "comp8_rate                     3056794\n",
       "comp8_inv                      2986298\n",
       "comp8_rate_percent_diff        4348206\n",
       "dtype: int64"
      ]
     },
     "execution_count": 87,
     "metadata": {},
     "output_type": "execute_result"
    }
   ],
   "source": [
    "test_df.isnull().sum()"
   ]
  },
  {
   "cell_type": "code",
   "execution_count": 88,
   "metadata": {},
   "outputs": [],
   "source": [
    "# check for extreme values where the column name does not contain 'id'\n",
    "temp = train_df.loc[:, ~train_df.columns.str.contains('id')]\n",
    "temp = temp.loc[:, ~temp.columns.str.contains('bool')]"
   ]
  },
  {
   "cell_type": "code",
   "execution_count": 89,
   "metadata": {},
   "outputs": [
    {
     "data": {
      "text/html": [
       "<div>\n",
       "<style scoped>\n",
       "    .dataframe tbody tr th:only-of-type {\n",
       "        vertical-align: middle;\n",
       "    }\n",
       "\n",
       "    .dataframe tbody tr th {\n",
       "        vertical-align: top;\n",
       "    }\n",
       "\n",
       "    .dataframe thead th {\n",
       "        text-align: right;\n",
       "    }\n",
       "</style>\n",
       "<table border=\"1\" class=\"dataframe\">\n",
       "  <thead>\n",
       "    <tr style=\"text-align: right;\">\n",
       "      <th></th>\n",
       "      <th>visitor_hist_starrating</th>\n",
       "      <th>visitor_hist_adr_usd</th>\n",
       "      <th>prop_starrating</th>\n",
       "      <th>prop_review_score</th>\n",
       "      <th>prop_location_score1</th>\n",
       "      <th>prop_location_score2</th>\n",
       "      <th>prop_log_historical_price</th>\n",
       "      <th>position</th>\n",
       "      <th>price_usd</th>\n",
       "      <th>promotion_flag</th>\n",
       "      <th>...</th>\n",
       "      <th>comp6_rate</th>\n",
       "      <th>comp6_inv</th>\n",
       "      <th>comp6_rate_percent_diff</th>\n",
       "      <th>comp7_rate</th>\n",
       "      <th>comp7_inv</th>\n",
       "      <th>comp7_rate_percent_diff</th>\n",
       "      <th>comp8_rate</th>\n",
       "      <th>comp8_inv</th>\n",
       "      <th>comp8_rate_percent_diff</th>\n",
       "      <th>gross_bookings_usd</th>\n",
       "    </tr>\n",
       "  </thead>\n",
       "  <tbody>\n",
       "    <tr>\n",
       "      <th>count</th>\n",
       "      <td>251866.000000</td>\n",
       "      <td>252988.000000</td>\n",
       "      <td>4.958347e+06</td>\n",
       "      <td>4.950983e+06</td>\n",
       "      <td>4.958347e+06</td>\n",
       "      <td>3.867999e+06</td>\n",
       "      <td>4.958347e+06</td>\n",
       "      <td>4.958347e+06</td>\n",
       "      <td>4.958347e+06</td>\n",
       "      <td>4.958347e+06</td>\n",
       "      <td>...</td>\n",
       "      <td>240157.000000</td>\n",
       "      <td>260976.000000</td>\n",
       "      <td>96174.000000</td>\n",
       "      <td>315348.000000</td>\n",
       "      <td>356422.000000</td>\n",
       "      <td>138515.000000</td>\n",
       "      <td>1.916654e+06</td>\n",
       "      <td>1.987503e+06</td>\n",
       "      <td>614730.000000</td>\n",
       "      <td>138390.000000</td>\n",
       "    </tr>\n",
       "    <tr>\n",
       "      <th>mean</th>\n",
       "      <td>3.374334</td>\n",
       "      <td>176.022659</td>\n",
       "      <td>3.180525e+00</td>\n",
       "      <td>3.777777e+00</td>\n",
       "      <td>2.872589e+00</td>\n",
       "      <td>1.303852e-01</td>\n",
       "      <td>4.317913e+00</td>\n",
       "      <td>1.685624e+01</td>\n",
       "      <td>2.542096e+02</td>\n",
       "      <td>2.156198e-01</td>\n",
       "      <td>...</td>\n",
       "      <td>0.128329</td>\n",
       "      <td>0.075957</td>\n",
       "      <td>17.250473</td>\n",
       "      <td>0.145969</td>\n",
       "      <td>0.083202</td>\n",
       "      <td>19.433267</td>\n",
       "      <td>-6.089936e-02</td>\n",
       "      <td>9.962752e-03</td>\n",
       "      <td>22.430384</td>\n",
       "      <td>386.283316</td>\n",
       "    </tr>\n",
       "    <tr>\n",
       "      <th>std</th>\n",
       "      <td>0.692519</td>\n",
       "      <td>107.254493</td>\n",
       "      <td>1.051024e+00</td>\n",
       "      <td>1.050329e+00</td>\n",
       "      <td>1.531011e+00</td>\n",
       "      <td>1.594634e-01</td>\n",
       "      <td>1.834869e+00</td>\n",
       "      <td>1.042566e+01</td>\n",
       "      <td>1.600124e+04</td>\n",
       "      <td>4.112517e-01</td>\n",
       "      <td>...</td>\n",
       "      <td>0.559841</td>\n",
       "      <td>0.302668</td>\n",
       "      <td>31.160313</td>\n",
       "      <td>0.578202</td>\n",
       "      <td>0.316722</td>\n",
       "      <td>54.370221</td>\n",
       "      <td>4.691723e-01</td>\n",
       "      <td>2.029142e-01</td>\n",
       "      <td>895.965854</td>\n",
       "      <td>821.190577</td>\n",
       "    </tr>\n",
       "    <tr>\n",
       "      <th>min</th>\n",
       "      <td>1.410000</td>\n",
       "      <td>0.000000</td>\n",
       "      <td>0.000000e+00</td>\n",
       "      <td>0.000000e+00</td>\n",
       "      <td>0.000000e+00</td>\n",
       "      <td>0.000000e+00</td>\n",
       "      <td>0.000000e+00</td>\n",
       "      <td>1.000000e+00</td>\n",
       "      <td>0.000000e+00</td>\n",
       "      <td>0.000000e+00</td>\n",
       "      <td>...</td>\n",
       "      <td>-1.000000</td>\n",
       "      <td>-1.000000</td>\n",
       "      <td>2.000000</td>\n",
       "      <td>-1.000000</td>\n",
       "      <td>-1.000000</td>\n",
       "      <td>2.000000</td>\n",
       "      <td>-1.000000e+00</td>\n",
       "      <td>-1.000000e+00</td>\n",
       "      <td>2.000000</td>\n",
       "      <td>0.000000</td>\n",
       "    </tr>\n",
       "    <tr>\n",
       "      <th>25%</th>\n",
       "      <td>2.920000</td>\n",
       "      <td>109.810000</td>\n",
       "      <td>3.000000e+00</td>\n",
       "      <td>3.500000e+00</td>\n",
       "      <td>1.790000e+00</td>\n",
       "      <td>1.900000e-02</td>\n",
       "      <td>4.450000e+00</td>\n",
       "      <td>8.000000e+00</td>\n",
       "      <td>8.500000e+01</td>\n",
       "      <td>0.000000e+00</td>\n",
       "      <td>...</td>\n",
       "      <td>0.000000</td>\n",
       "      <td>0.000000</td>\n",
       "      <td>6.000000</td>\n",
       "      <td>0.000000</td>\n",
       "      <td>0.000000</td>\n",
       "      <td>7.000000</td>\n",
       "      <td>0.000000e+00</td>\n",
       "      <td>0.000000e+00</td>\n",
       "      <td>7.000000</td>\n",
       "      <td>124.000000</td>\n",
       "    </tr>\n",
       "    <tr>\n",
       "      <th>50%</th>\n",
       "      <td>3.450000</td>\n",
       "      <td>152.240000</td>\n",
       "      <td>3.000000e+00</td>\n",
       "      <td>4.000000e+00</td>\n",
       "      <td>2.770000e+00</td>\n",
       "      <td>6.900000e-02</td>\n",
       "      <td>4.910000e+00</td>\n",
       "      <td>1.600000e+01</td>\n",
       "      <td>1.220000e+02</td>\n",
       "      <td>0.000000e+00</td>\n",
       "      <td>...</td>\n",
       "      <td>0.000000</td>\n",
       "      <td>0.000000</td>\n",
       "      <td>11.000000</td>\n",
       "      <td>0.000000</td>\n",
       "      <td>0.000000</td>\n",
       "      <td>12.000000</td>\n",
       "      <td>0.000000e+00</td>\n",
       "      <td>0.000000e+00</td>\n",
       "      <td>11.000000</td>\n",
       "      <td>218.400000</td>\n",
       "    </tr>\n",
       "    <tr>\n",
       "      <th>75%</th>\n",
       "      <td>3.930000</td>\n",
       "      <td>213.490000</td>\n",
       "      <td>4.000000e+00</td>\n",
       "      <td>4.500000e+00</td>\n",
       "      <td>4.040000e+00</td>\n",
       "      <td>1.805000e-01</td>\n",
       "      <td>5.310000e+00</td>\n",
       "      <td>2.600000e+01</td>\n",
       "      <td>1.849600e+02</td>\n",
       "      <td>0.000000e+00</td>\n",
       "      <td>...</td>\n",
       "      <td>0.000000</td>\n",
       "      <td>0.000000</td>\n",
       "      <td>18.000000</td>\n",
       "      <td>1.000000</td>\n",
       "      <td>0.000000</td>\n",
       "      <td>20.000000</td>\n",
       "      <td>0.000000e+00</td>\n",
       "      <td>0.000000e+00</td>\n",
       "      <td>17.000000</td>\n",
       "      <td>429.790000</td>\n",
       "    </tr>\n",
       "    <tr>\n",
       "      <th>max</th>\n",
       "      <td>5.000000</td>\n",
       "      <td>1958.700000</td>\n",
       "      <td>5.000000e+00</td>\n",
       "      <td>5.000000e+00</td>\n",
       "      <td>6.980000e+00</td>\n",
       "      <td>1.000000e+00</td>\n",
       "      <td>6.210000e+00</td>\n",
       "      <td>4.000000e+01</td>\n",
       "      <td>1.972633e+07</td>\n",
       "      <td>1.000000e+00</td>\n",
       "      <td>...</td>\n",
       "      <td>1.000000</td>\n",
       "      <td>1.000000</td>\n",
       "      <td>1620.000000</td>\n",
       "      <td>1.000000</td>\n",
       "      <td>1.000000</td>\n",
       "      <td>9900.000000</td>\n",
       "      <td>1.000000e+00</td>\n",
       "      <td>1.000000e+00</td>\n",
       "      <td>149400.000000</td>\n",
       "      <td>159292.380000</td>\n",
       "    </tr>\n",
       "  </tbody>\n",
       "</table>\n",
       "<p>8 rows × 42 columns</p>\n",
       "</div>"
      ],
      "text/plain": [
       "       visitor_hist_starrating  visitor_hist_adr_usd  prop_starrating   \n",
       "count            251866.000000         252988.000000     4.958347e+06  \\\n",
       "mean                  3.374334            176.022659     3.180525e+00   \n",
       "std                   0.692519            107.254493     1.051024e+00   \n",
       "min                   1.410000              0.000000     0.000000e+00   \n",
       "25%                   2.920000            109.810000     3.000000e+00   \n",
       "50%                   3.450000            152.240000     3.000000e+00   \n",
       "75%                   3.930000            213.490000     4.000000e+00   \n",
       "max                   5.000000           1958.700000     5.000000e+00   \n",
       "\n",
       "       prop_review_score  prop_location_score1  prop_location_score2   \n",
       "count       4.950983e+06          4.958347e+06          3.867999e+06  \\\n",
       "mean        3.777777e+00          2.872589e+00          1.303852e-01   \n",
       "std         1.050329e+00          1.531011e+00          1.594634e-01   \n",
       "min         0.000000e+00          0.000000e+00          0.000000e+00   \n",
       "25%         3.500000e+00          1.790000e+00          1.900000e-02   \n",
       "50%         4.000000e+00          2.770000e+00          6.900000e-02   \n",
       "75%         4.500000e+00          4.040000e+00          1.805000e-01   \n",
       "max         5.000000e+00          6.980000e+00          1.000000e+00   \n",
       "\n",
       "       prop_log_historical_price      position     price_usd  promotion_flag   \n",
       "count               4.958347e+06  4.958347e+06  4.958347e+06    4.958347e+06  \\\n",
       "mean                4.317913e+00  1.685624e+01  2.542096e+02    2.156198e-01   \n",
       "std                 1.834869e+00  1.042566e+01  1.600124e+04    4.112517e-01   \n",
       "min                 0.000000e+00  1.000000e+00  0.000000e+00    0.000000e+00   \n",
       "25%                 4.450000e+00  8.000000e+00  8.500000e+01    0.000000e+00   \n",
       "50%                 4.910000e+00  1.600000e+01  1.220000e+02    0.000000e+00   \n",
       "75%                 5.310000e+00  2.600000e+01  1.849600e+02    0.000000e+00   \n",
       "max                 6.210000e+00  4.000000e+01  1.972633e+07    1.000000e+00   \n",
       "\n",
       "       ...     comp6_rate      comp6_inv  comp6_rate_percent_diff   \n",
       "count  ...  240157.000000  260976.000000             96174.000000  \\\n",
       "mean   ...       0.128329       0.075957                17.250473   \n",
       "std    ...       0.559841       0.302668                31.160313   \n",
       "min    ...      -1.000000      -1.000000                 2.000000   \n",
       "25%    ...       0.000000       0.000000                 6.000000   \n",
       "50%    ...       0.000000       0.000000                11.000000   \n",
       "75%    ...       0.000000       0.000000                18.000000   \n",
       "max    ...       1.000000       1.000000              1620.000000   \n",
       "\n",
       "          comp7_rate      comp7_inv  comp7_rate_percent_diff    comp8_rate   \n",
       "count  315348.000000  356422.000000            138515.000000  1.916654e+06  \\\n",
       "mean        0.145969       0.083202                19.433267 -6.089936e-02   \n",
       "std         0.578202       0.316722                54.370221  4.691723e-01   \n",
       "min        -1.000000      -1.000000                 2.000000 -1.000000e+00   \n",
       "25%         0.000000       0.000000                 7.000000  0.000000e+00   \n",
       "50%         0.000000       0.000000                12.000000  0.000000e+00   \n",
       "75%         1.000000       0.000000                20.000000  0.000000e+00   \n",
       "max         1.000000       1.000000              9900.000000  1.000000e+00   \n",
       "\n",
       "          comp8_inv  comp8_rate_percent_diff  gross_bookings_usd  \n",
       "count  1.987503e+06            614730.000000       138390.000000  \n",
       "mean   9.962752e-03                22.430384          386.283316  \n",
       "std    2.029142e-01               895.965854          821.190577  \n",
       "min   -1.000000e+00                 2.000000            0.000000  \n",
       "25%    0.000000e+00                 7.000000          124.000000  \n",
       "50%    0.000000e+00                11.000000          218.400000  \n",
       "75%    0.000000e+00                17.000000          429.790000  \n",
       "max    1.000000e+00            149400.000000       159292.380000  \n",
       "\n",
       "[8 rows x 42 columns]"
      ]
     },
     "execution_count": 89,
     "metadata": {},
     "output_type": "execute_result"
    }
   ],
   "source": [
    "temp.describe()"
   ]
  },
  {
   "cell_type": "code",
   "execution_count": 90,
   "metadata": {},
   "outputs": [
    {
     "data": {
      "image/png": "[encoded data removed]",
      "text/plain": [
       "<Figure size 400x500 with 1 Axes>"
      ]
     },
     "metadata": {},
     "output_type": "display_data"
    }
   ],
   "source": [
    "# plotting the number of records per search id\n",
    "temp = train_df.groupby('srch_id').count()['prop_id'].reset_index()\n",
    "\n",
    "# plot the number of records per search id as boxplot and make y-axis the property id\n",
    "plt.figure(figsize=(4, 5))\n",
    "sns.boxplot(y='prop_id', data=temp, color=colors[0])\n",
    "plt.ylabel('Property ID')\n",
    "plt.title('Number of records per search ID')\n",
    "plt.show()"
   ]
  },
  {
   "cell_type": "code",
   "execution_count": 91,
   "metadata": {},
   "outputs": [
    {
     "data": {
      "text/plain": [
       "count    199795.000000\n",
       "mean         24.817173\n",
       "std           9.113335\n",
       "min           5.000000\n",
       "25%          18.000000\n",
       "50%          29.000000\n",
       "75%          32.000000\n",
       "max          38.000000\n",
       "Name: prop_id, dtype: float64"
      ]
     },
     "execution_count": 91,
     "metadata": {},
     "output_type": "execute_result"
    }
   ],
   "source": [
    "# general statistics of properties per search id\n",
    "temp[\"prop_id\"].describe()"
   ]
  },
  {
   "cell_type": "code",
   "execution_count": 92,
   "metadata": {},
   "outputs": [],
   "source": [
    "# plot the average price per property id\n",
    "avg_price_per_property = train_df.groupby('prop_id')\n",
    "avg_price_per_property = avg_price_per_property['price_usd'].mean().reset_index()\n",
    "\n"
   ]
  },
  {
   "cell_type": "code",
   "execution_count": 93,
   "metadata": {},
   "outputs": [
    {
     "data": {
      "image/png": "[encoded data removed]",
      "text/plain": [
       "<Figure size 1000x500 with 1 Axes>"
      ]
     },
     "metadata": {},
     "output_type": "display_data"
    }
   ],
   "source": [
    "plt.figure(figsize=(10, 5))\n",
    "plt.scatter(x='prop_id', y='price_usd', data=avg_price_per_property, color=colors[1])\n",
    "plt.ylabel('Average price in USD')\n",
    "plt.xlabel('Property ID')\n",
    "plt.title('Average price per property ID')\n",
    "plt.show()"
   ]
  },
  {
   "cell_type": "code",
   "execution_count": 94,
   "metadata": {},
   "outputs": [
    {
     "data": {
      "text/plain": [
       "count    1.291130e+05\n",
       "mean     2.765556e+02\n",
       "std      7.254487e+03\n",
       "min      3.375000e+00\n",
       "25%      7.894250e+01\n",
       "50%      1.103808e+02\n",
       "75%      1.568700e+02\n",
       "max      1.173038e+06\n",
       "Name: price_usd, dtype: float64"
      ]
     },
     "execution_count": 94,
     "metadata": {},
     "output_type": "execute_result"
    }
   ],
   "source": [
    "# statistics of the average price per property id\n",
    "avg_price_per_property['price_usd'].describe()"
   ]
  },
  {
   "cell_type": "code",
   "execution_count": 95,
   "metadata": {},
   "outputs": [],
   "source": [
    "# retrieve the records where the booking_bool is 1\n",
    "bookings = train_df[train_df['booking_bool'] == 1]\n",
    "non_bookings = train_df[train_df['booking_bool'] == 0]\n",
    "\n",
    "# plot the average price per property id for bookings and non-bookings\n",
    "avg_price_per_property_bookings = bookings.groupby('prop_id')\n",
    "avg_price_per_property_bookings = avg_price_per_property_bookings['price_usd'].mean().reset_index()\n",
    "\n",
    "avg_price_per_property_non_bookings = non_bookings.groupby('prop_id')\n",
    "avg_price_per_property_non_bookings = avg_price_per_property_non_bookings['price_usd'].mean().reset_index()"
   ]
  },
  {
   "cell_type": "code",
   "execution_count": 96,
   "metadata": {},
   "outputs": [
    {
     "data": {
      "text/plain": [
       "count    4.342800e+04\n",
       "mean     2.763523e+02\n",
       "std      1.521050e+04\n",
       "min      0.000000e+00\n",
       "25%      7.810750e+01\n",
       "50%      1.061248e+02\n",
       "75%      1.455508e+02\n",
       "max      2.817430e+06\n",
       "Name: price_usd, dtype: float64"
      ]
     },
     "execution_count": 96,
     "metadata": {},
     "output_type": "execute_result"
    }
   ],
   "source": [
    "avg_price_per_property_bookings['price_usd'].describe()"
   ]
  },
  {
   "cell_type": "code",
   "execution_count": 97,
   "metadata": {},
   "outputs": [
    {
     "data": {
      "text/plain": [
       "count    1.286470e+05\n",
       "mean     2.734454e+02\n",
       "std      7.231741e+03\n",
       "min      3.375000e+00\n",
       "25%      7.900000e+01\n",
       "50%      1.105519e+02\n",
       "75%      1.573168e+02\n",
       "max      1.173038e+06\n",
       "Name: price_usd, dtype: float64"
      ]
     },
     "execution_count": 97,
     "metadata": {},
     "output_type": "execute_result"
    }
   ],
   "source": [
    "avg_price_per_property_non_bookings['price_usd'].describe()"
   ]
  },
  {
   "cell_type": "code",
   "execution_count": 98,
   "metadata": {},
   "outputs": [
    {
     "data": {
      "image/png": "[encoded data removed]",
      "text/plain": [
       "<Figure size 1000x500 with 1 Axes>"
      ]
     },
     "metadata": {},
     "output_type": "display_data"
    }
   ],
   "source": [
    "bins = [-0.0001, 50, 100, 150, 200, 300, 400, 500, 1000, 3000000]\n",
    "# merge the bookings and non-bookings dataframes and include a column with the bin\n",
    "avg_price_per_property_bookings['bin'] = pd.cut(avg_price_per_property_bookings['price_usd'], bins=bins)\n",
    "avg_price_per_property_non_bookings['bin'] = pd.cut(avg_price_per_property_non_bookings['price_usd'], bins=bins)\n",
    "\n",
    "count_bookings = avg_price_per_property_bookings.groupby('bin').count()['price_usd'].reset_index()\n",
    "count_non_bookings = avg_price_per_property_non_bookings.groupby('bin').count()['price_usd'].reset_index()\n",
    "\n",
    "# replace the bin values with string values\n",
    "new_bins = ['0-50', '50-100', '100-150', '150-200', '200-300', '300-400', '400-500', '500-1000', '1000+']\n",
    "count_bookings['bin'] = new_bins\n",
    "count_non_bookings['bin'] = new_bins\n",
    "width = 0.3\n",
    "\n",
    "plt.figure(figsize=(10, 5))\n",
    "plt.bar(np.arange(len(count_bookings['bin'])), count_bookings['price_usd'], width, color=colors[0], label='Bookings')\n",
    "plt.bar(np.arange(len(count_bookings['bin'])) + width, count_non_bookings['price_usd'], width, color=colors[2], label='Non-bookings')\n",
    "plt.xticks(np.arange(len(count_bookings['bin'])) + width / 2, count_bookings['bin'])\n",
    "plt.ylabel('Number of properties')\n",
    "plt.xlabel('Average price in USD')\n",
    "plt.title('Number of properties per average price')\n",
    "plt.legend()\n",
    "plt.show()"
   ]
  },
  {
   "cell_type": "code",
   "execution_count": 103,
   "metadata": {},
   "outputs": [
    {
     "data": {
      "image/png": "[encoded data removed]",
      "text/plain": [
       "<Figure size 1000x500 with 1 Axes>"
      ]
     },
     "metadata": {},
     "output_type": "display_data"
    }
   ],
   "source": [
    "temp = train_df[['srch_booking_window', 'price_usd']]\n",
    "\n",
    "# plot the average price per booking window\n",
    "avg_price_per_booking_window = temp.groupby('srch_booking_window')\n",
    "avg_price_per_booking_window = avg_price_per_booking_window['price_usd'].mean().reset_index()\n",
    "\n",
    "# eliminate the outliers\n",
    "avg_price_per_booking_window = avg_price_per_booking_window[avg_price_per_booking_window['price_usd'] < 1000]\n",
    "\n",
    "plt.figure(figsize=(10, 5))\n",
    "plt.scatter(x='srch_booking_window', y='price_usd', data=avg_price_per_booking_window, color=colors[1])\n",
    "plt.ylabel('Average price in USD')\n",
    "plt.xlabel('Booking window')\n",
    "plt.title('Average price per booking window')\n",
    "plt.show()"
   ]
  },
  {
   "cell_type": "code",
   "execution_count": 100,
   "metadata": {},
   "outputs": [
    {
     "name": "stdout",
     "output_type": "stream",
     "text": [
      "   srch_saturday_night_bool   price_usd\n",
      "0                         0  284.689576\n",
      "1                         1  223.998191\n",
      "2490145\n"
     ]
    }
   ],
   "source": [
    "# check if weekends are more expensive than weekdays\n",
    "avg_price_per_weekend = train_df[['srch_saturday_night_bool', 'price_usd']].groupby('srch_saturday_night_bool')['price_usd'].mean().reset_index()\n",
    "print(avg_price_per_weekend)\n",
    "\n",
    "#number of bookings per weekend\n",
    "print(len(train_df[train_df[\"srch_saturday_night_bool\"] == 1]))"
   ]
  },
  {
   "cell_type": "code",
   "execution_count": 101,
   "metadata": {},
   "outputs": [
    {
     "name": "stdout",
     "output_type": "stream",
     "text": [
      "   prop_brand_bool  booking_bool\n",
      "0                0         46625\n",
      "1                1         91765\n"
     ]
    }
   ],
   "source": [
    "# check if chain hotels are booked more than independent hotels\n",
    "book_difference_chain = train_df[['prop_brand_bool', 'booking_bool']].groupby('prop_brand_bool')['booking_bool'].sum().reset_index()\n",
    "print(book_difference_chain)"
   ]
  },
  {
   "cell_type": "code",
   "execution_count": 105,
   "metadata": {},
   "outputs": [
    {
     "data": {
      "text/plain": [
       "count    252988.000000\n",
       "mean        176.022659\n",
       "std         107.254493\n",
       "min           0.000000\n",
       "25%         109.810000\n",
       "50%         152.240000\n",
       "75%         213.490000\n",
       "max        1958.700000\n",
       "Name: visitor_hist_adr_usd, dtype: float64"
      ]
     },
     "execution_count": 105,
     "metadata": {},
     "output_type": "execute_result"
    }
   ],
   "source": [
    "train_df[\"visitor_hist_adr_usd\"].describe()"
   ]
  },
  {
   "cell_type": "code",
   "execution_count": null,
   "metadata": {},
   "outputs": [],
   "source": []
  }
 ],
 "metadata": {
  "kernelspec": {
   "display_name": "Python 3 (ipykernel)",
   "language": "python",
   "name": "python3"
  },
  "language_info": {
   "codemirror_mode": {
    "name": "ipython",
    "version": 3
   },
   "file_extension": ".py",
   "mimetype": "text/x-python",
   "name": "python",
   "nbconvert_exporter": "python",
   "pygments_lexer": "ipython3",
   "version": "3.11.3"
  }
 },
 "nbformat": 4,
 "nbformat_minor": 4
}
